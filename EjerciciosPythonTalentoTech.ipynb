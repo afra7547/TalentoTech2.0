{
 "cells": [
  {
   "cell_type": "markdown",
   "id": "934f892f-3c91-4134-91a0-d659c2a2be99",
   "metadata": {},
   "source": [
    "1. ESTRUCTURAS DE SELECCIÓN\n"
   ]
  },
  {
   "cell_type": "code",
   "execution_count": 10,
   "id": "68b7c28b-cb29-4eb3-98e2-c5aa83c16a19",
   "metadata": {},
   "outputs": [
    {
     "name": "stdin",
     "output_type": "stream",
     "text": [
      "Por favor escribe un numero:  5\n"
     ]
    },
    {
     "name": "stdout",
     "output_type": "stream",
     "text": [
      "Es impar\n"
     ]
    }
   ],
   "source": [
    "# 1.1. Escribir un programa que solicite un valor entero al usuario y determine si es par o impar\n",
    "numero = int(input('Por favor escribe un numero: '))\n",
    "if numero % 2 == 0:\n",
    "    print('Numero es par')\n",
    "else:\n",
    "    print('Es impar')\n",
    "\n",
    "\n",
    " "
   ]
  },
  {
   "cell_type": "code",
   "execution_count": 13,
   "id": "85ffa55b-6c82-4420-8ab3-bebf509ce262",
   "metadata": {},
   "outputs": [
    {
     "name": "stdin",
     "output_type": "stream",
     "text": [
      "por favor escribe un número:  -10\n"
     ]
    },
    {
     "name": "stdout",
     "output_type": "stream",
     "text": [
      "Es negativo\n"
     ]
    }
   ],
   "source": [
    "#1.2. Escribir un programa que solicite un valor entero al usuario y determine si es positivo o negativo. \n",
    "numero =  int(input('por favor escribe un número: '))\n",
    "if numero > 0:\n",
    "    print('Es positivo')\n",
    "if numero < 0:\n",
    "    print('Es negativo')"
   ]
  },
  {
   "cell_type": "code",
   "execution_count": 16,
   "id": "87b2a030-f97c-4b4d-8ab1-4ad052ff176e",
   "metadata": {},
   "outputs": [
    {
     "name": "stdin",
     "output_type": "stream",
     "text": [
      "por favor escribe un número:  -5\n"
     ]
    },
    {
     "name": "stdout",
     "output_type": "stream",
     "text": [
      "No es un número correcto\n"
     ]
    }
   ],
   "source": [
    "'''1.3. Pedir al usuario un valor. Si el valor es positivo, pedir un segundo valor y calcular la suma, resta y producto de \n",
    "ambos. Mostrar los resultados por pantalla.'''\n",
    "numero =  int(input('por favor escribe un número: '))\n",
    "if numero > 0:\n",
    "    numero2 =  int(input('por favor escribe otro número: '))\n",
    "    suma = numero + numero2\n",
    "    print(suma)\n",
    "    resta = numero - numero2\n",
    "    print(resta)\n",
    "    producto = numero * numero2\n",
    "    print(producto)\n",
    "else:\n",
    "    print('No es un número correcto')\n",
    "    \n",
    "\n",
    "    "
   ]
  },
  {
   "cell_type": "code",
   "execution_count": 20,
   "id": "01898308-3ba1-4250-959f-bcd32067feeb",
   "metadata": {},
   "outputs": [
    {
     "name": "stdin",
     "output_type": "stream",
     "text": [
      "por favor escribe el primer número:  3\n",
      "por favor escribe el segundo número:  6\n"
     ]
    },
    {
     "name": "stdout",
     "output_type": "stream",
     "text": [
      "El 6 es mayor que 3\n"
     ]
    }
   ],
   "source": [
    "#1.4. Calcular el mayor de dos números enteros introducidos por teclado. \n",
    "numero1 = int(input('por favor escribe el primer número: '))\n",
    "numero2 = int(input('por favor escribe el segundo número: '))\n",
    "\n",
    "if numero1 > numero2:\n",
    "    print(f'El {numero1} es mayor que {numero2}')\n",
    "if numero1 < numero2:\n",
    "    print(f'El {numero2} es mayor que {numero1}')\n"
   ]
  },
  {
   "cell_type": "code",
   "execution_count": 22,
   "id": "f301411a-8e83-4371-8ed1-4dad6957f643",
   "metadata": {},
   "outputs": [
    {
     "name": "stdin",
     "output_type": "stream",
     "text": [
      "por favor escribe el primer número:  1\n",
      "por favor escribe el segundo número:  2\n",
      "por favor escribe el tercer número:  3\n"
     ]
    },
    {
     "name": "stdout",
     "output_type": "stream",
     "text": [
      "El 3 es mayor que 1 y 2\n"
     ]
    }
   ],
   "source": [
    "#1.5. Calcular el mayor de tres números enteros introducidos por teclado. \n",
    "numero1 = int(input('por favor escribe el primer número: '))\n",
    "numero2 = int(input('por favor escribe el segundo número: '))\n",
    "numero3 = int(input('por favor escribe el tercer número: '))\n",
    "\n",
    "if numero1 > numero2 and numero1 > numero3:\n",
    "    print(f'El {numero1} es mayor que {numero2} y {numero3}')\n",
    "if numero2 > numero1 and numero2 > numero3:\n",
    "    print(f'El {numero2} es mayor que {numero1} y {numero3}')\n",
    "if numero3 > numero1 and numero3 > numero2:\n",
    "    print(f'El {numero3} es mayor que {numero1} y {numero2}')\n",
    "\n"
   ]
  },
  {
   "cell_type": "code",
   "execution_count": 25,
   "id": "9600c94b-ea56-4fb6-980d-2ec906d11ed3",
   "metadata": {},
   "outputs": [
    {
     "name": "stdin",
     "output_type": "stream",
     "text": [
      "por favor escribe el primer número:  10\n",
      "por favor escribe el segundo número:  30\n",
      "por favor escribe el tercer número:  5\n",
      "por favor escribe el cuarto número:  2\n"
     ]
    },
    {
     "name": "stdout",
     "output_type": "stream",
     "text": [
      "30\n"
     ]
    }
   ],
   "source": [
    "#1.6. Calcular el mayor de cuatro números enteros introducidos por teclado. \n",
    "\n",
    "numero1 = int(input('por favor escribe el primer número: '))\n",
    "numero2 = int(input('por favor escribe el segundo número: '))\n",
    "numero3 = int(input('por favor escribe el tercer número: '))\n",
    "numero4 = int(input('por favor escribe el cuarto número: '))\n",
    "\n",
    "print(max([numero1,numero2,numero3,numero4]))\n",
    "\n",
    "      \n",
    "\n"
   ]
  },
  {
   "cell_type": "code",
   "execution_count": 30,
   "id": "1487e99f-3d78-4e13-afcd-b75e0525b0b9",
   "metadata": {},
   "outputs": [
    {
     "name": "stdin",
     "output_type": "stream",
     "text": [
      "Por favor ingresa la temperatura del agua:  150\n"
     ]
    },
    {
     "name": "stdout",
     "output_type": "stream",
     "text": [
      "El agua esta en estado gaseoso\n"
     ]
    }
   ],
   "source": [
    "'''1.7. Determinar en que estado está el agua en función de su temperatura. Si es negativa el estado será sólido, si es\n",
    "menor que 100 será líquido y si es mayor que 100 será gas. Pedir al usuario el valor de la temperatura.'''     \n",
    "temperatura = int(input('Por favor ingresa la temperatura del agua: '))\n",
    "\n",
    "if temperatura < 0:\n",
    "    print('El agua esta en estado solido')\n",
    "if temperatura > 0 and temperatura < 100:\n",
    "    print('El agua esta en estado liquido')\n",
    "if temperatura > 100:\n",
    "    print('El agua esta en estado gaseoso')\n",
    "    "
   ]
  },
  {
   "cell_type": "code",
   "execution_count": 39,
   "id": "d895a4ca-dde9-49c2-ae15-99cccf08b294",
   "metadata": {},
   "outputs": [
    {
     "name": "stdin",
     "output_type": "stream",
     "text": [
      "por favor ingresa un año:  2005\n"
     ]
    },
    {
     "name": "stdout",
     "output_type": "stream",
     "text": [
      "No es un año bisiesto\n"
     ]
    }
   ],
   "source": [
    "'''1.8. Un año es bisiesto si es divisible por 4 y no es por 100, o si es divisible por 400. Escribe un programa que lea un\n",
    "año y devuelva si es bisiesto o no.'''\n",
    "\n",
    "año =  int(input('por favor ingresa un año: '))\n",
    "\n",
    "if año %4 == 0 and año %100 != 0 or año %400 == 0:\n",
    "    print('Es un año bisiesto')\n",
    "else:\n",
    "    print('No es un año bisiesto')\n",
    "    \n"
   ]
  },
  {
   "cell_type": "code",
   "execution_count": 85,
   "id": "a1a9a5b3-30d0-4e6b-b753-0a99c809c212",
   "metadata": {},
   "outputs": [
    {
     "name": "stdin",
     "output_type": "stream",
     "text": [
      "Ingresar numero de dia:  30\n",
      "Ingresar numero de mes:  4\n",
      "Ingresar numero de año:  2025\n"
     ]
    },
    {
     "name": "stdout",
     "output_type": "stream",
     "text": [
      "Mañana es 1/5/2025\n"
     ]
    }
   ],
   "source": [
    "#1.9. Dada la fecha de hoy, calcular la fecha del día siguiente. Suponer que el año no es bisiesto. \n",
    "dia = int(input('Ingresar numero de dia: '))\n",
    "mes = int(input('Ingresar numero de mes: '))\n",
    "año = int(input('Ingresar numero de año: '))\n",
    "   \n",
    "if dia == 28 and mes == 2:\n",
    "    dia_sig = 1\n",
    "    mes_sig = mes + 1\n",
    "    año_sig = año\n",
    "elif dia == 30 and (mes  == 4 or mes == 6 or mes == 9 or mes == 11):\n",
    "    dia_sig = 1\n",
    "    mes_sig = mes + 1\n",
    "    año_sig = año\n",
    "elif dia < 31 and (mes == 1 or mes == 3 or mes == 5 or mes == 7 or mes == 8 or mes == 10): \n",
    "    dia_sig = dia + 1\n",
    "    mes_sig = mes\n",
    "    año_sig = año\n",
    "elif dia == 31 and ( mes == 1 or mes ==3 or mes ==5 or mes == 7 or mes == 8 or mes == 10) :\n",
    "    dia_sig = 1\n",
    "    mes_sig = mes + 1\n",
    "    año_sig = año\n",
    "elif dia == 31 and mes == 12:\n",
    "    dia_sig = 1\n",
    "    mes_sig = 1\n",
    "    año_sig = año + 1\n",
    "print(f'Mañana es {dia_sig}/{mes_sig}/{año_sig}')\n",
    "\n",
    "\n"
   ]
  },
  {
   "cell_type": "code",
   "execution_count": 91,
   "id": "93d103d3-e932-4bdf-ad63-178cfc3438b5",
   "metadata": {},
   "outputs": [
    {
     "name": "stdin",
     "output_type": "stream",
     "text": [
      "Ingresar número de mes (entre 1 y 12:  8\n"
     ]
    },
    {
     "name": "stdout",
     "output_type": "stream",
     "text": [
      "Agosto\n"
     ]
    }
   ],
   "source": [
    "#1.10. Pedir un mes (número) y mostrar el nombre del mes.\n",
    "ingresar_mes = int(input('Ingresar número de mes (entre 1 y 12: '))\n",
    "\n",
    "meses = {1:'Enero',2:'Febrero',3:'Marzo',4:'Abril',5:'Mayo',6:'Junio',7:'Julio',8:'Agosto',9:'Septiembre',10:'Octubre',11:'Noviembre',12:'Diciembre'}\n",
    "\n",
    "print(meses[ingresar_mes])\n",
    "\n",
    "\n"
   ]
  },
  {
   "cell_type": "code",
   "execution_count": 108,
   "id": "713d475e-f611-4ca8-8a54-f321c6d0d512",
   "metadata": {},
   "outputs": [
    {
     "name": "stdin",
     "output_type": "stream",
     "text": [
      "Ingresar inicial día de la semana:  J\n"
     ]
    },
    {
     "name": "stdout",
     "output_type": "stream",
     "text": [
      "Jueves\n"
     ]
    }
   ],
   "source": [
    "'''1.11. Solicitar al usuario la inicial del día de la semana y mostrar el nombre del día completo. La letra inicial puede ser\n",
    "mayúscula o minúscula. Usar la x para el miércoles.'''\n",
    "\n",
    "ingresar_letra = (input('Ingresar inicial día de la semana: ')).lower()\n",
    "\n",
    "dia = {'l':'Lunes','m':'Martes','x':'Miercoles','j':'Jueves','v':'Viernes','s':'Sabado','d':'Domingo'}\n",
    "\n",
    "if ingresar_letra in dia:\n",
    "    print(dia[ingresar_letra])\n",
    "\n",
    "else:\n",
    "    print('La letra seleccionada no se encuentra en el listado')\n",
    "\n",
    "\n",
    "\n",
    "\n",
    "\n"
   ]
  },
  {
   "cell_type": "code",
   "execution_count": 139,
   "id": "3ad097de-73cf-4766-887e-5769ed31a6fe",
   "metadata": {},
   "outputs": [
    {
     "name": "stdin",
     "output_type": "stream",
     "text": [
      "Ingresar numero de dia:  29\n",
      "Ingresar numero de mes:  2\n",
      "Ingresar numero de año:  2004\n"
     ]
    },
    {
     "name": "stdout",
     "output_type": "stream",
     "text": [
      "La fecha es correcta\n"
     ]
    }
   ],
   "source": [
    "'''1.12. Solicitar al usuario una fecha (dd:mm:aaaa) y comprobar si es correcta. Para que una fecha sea correcta es\n",
    "necesario:\n",
    "• El año debe ser mayor que cero.\n",
    "• El mes debe estar entre 1 y 12.\n",
    "• Dependiendo del mes que sea, el día debe estar dentro de los límites válidos. Los meses que tienen 31 días\n",
    "son 1, 3, 5, 7, 8, 10 y 12'''\n",
    "\n",
    "dia = int(input('Ingresar numero de dia: '))\n",
    "mes = int(input('Ingresar numero de mes: '))\n",
    "año = int(input('Ingresar numero de año: '))\n",
    "\n",
    "if año > 0 and mes > 0 and mes < 13 and dia >0 and dia <= 31 and (mes == 1 or mes == 3 or mes == 5 or mes == 7 or mes == 8 or mes == 10 or mes == 12) :\n",
    "    print('La fecha es correcta')\n",
    "\n",
    "elif año > 0 and mes > 0 and mes < 13 and dia <= 30 and (mes == 4 or mes == 6 or mes == 9 or mes == 11) :\n",
    "    print('La fecha es correcta')\n",
    "\n",
    "elif año > 0 and mes == 2 and dia > 0 and (dia <= 29 and (año %4 == 0 and año % 100 != 0 or año % 400 == 0)):\n",
    "    print('La fecha es correcta')\n",
    "\n",
    "elif año > 0 and mes == 2 and dia <= 28 and dia > 0:\n",
    "    print('La fecha es correcta')\n",
    "else:\n",
    "    print('La fecha es incorrecta')\n",
    "    "
   ]
  },
  {
   "cell_type": "code",
   "execution_count": 144,
   "id": "2ace544a-f2d7-4a48-bd3b-2506435abb99",
   "metadata": {},
   "outputs": [
    {
     "name": "stdin",
     "output_type": "stream",
     "text": [
      "por favor ingresar cantidad de minutos utilizados:  100\n"
     ]
    },
    {
     "name": "stdout",
     "output_type": "stream",
     "text": [
      " El valor de los minutos consumidos es de 200 BsF\n"
     ]
    }
   ],
   "source": [
    "'''1.13. Escribir un programa que permita determinar la cantidad total a pagar por una llamada telefónica de N minutos\n",
    "(introducido por el usuario), teniendo en cuenta lo siguiente:\n",
    "• Las llamadas de 5 minutos o menos tienen un coste de 10 BsF.\n",
    "• Cada minuto adicional a partir de los 5 primeros cuesta 2 BsF. '''\n",
    "\n",
    "minutos = int(input('por favor ingresar cantidad de minutos utilizados: '))\n",
    "\n",
    "if minutos > 0 and minutos <= 5:\n",
    "    print('El valor de los minutos consumidos es de 10 BsF')\n",
    "if minutos > 5:\n",
    "    minutos = (minutos - 5)* 2 + 10\n",
    "    print(f' El valor de los minutos consumidos es de {minutos} BsF')"
   ]
  },
  {
   "cell_type": "code",
   "execution_count": 151,
   "id": "9aecf61d-8420-4c76-a82a-76bcf47b13f6",
   "metadata": {},
   "outputs": [
    {
     "name": "stdin",
     "output_type": "stream",
     "text": [
      "Por favor ingresar precio de coste Bs:  8\n"
     ]
    },
    {
     "name": "stdout",
     "output_type": "stream",
     "text": [
      "El precio de venta es de Bs 10.0\n"
     ]
    }
   ],
   "source": [
    "'''1.14. El dueño de una papelería desea un programa que le indique el precio de venta de un artículo dado. El precio se\n",
    "calcula de acuerdo con la siguiente fórmula: PVP = precio_coste + ganancia. Donde la ganancia será:\n",
    "• El 15% si el precio de coste es inferior Bs. 3.\n",
    "• 50 céntimos si el precio de coste está entre Bs. 3 y Bs. 6.\n",
    "• El 25% si el precio de coste supera los Bs. 6. '''\n",
    "\n",
    "precio_coste = int(input('Por favor ingresar precio de coste Bs: '))\n",
    "\n",
    "if precio_coste <=3:\n",
    "    PVP = precio_coste * 1.15\n",
    "    print('El precio de venta es de Bs',PVP, )\n",
    "if precio_coste > 3 and precio_coste <= 6:\n",
    "    PVP = precio_coste + 0.5\n",
    "    print('El precio de venta es de Bs',PVP,)\n",
    "if precio_coste > 6:\n",
    "    PVP = precio_coste * 1.25\n",
    "    print('El precio de venta es de Bs',PVP,)\n",
    "    \n",
    "\n"
   ]
  },
  {
   "cell_type": "code",
   "execution_count": 162,
   "id": "b813cb92-c5d9-40e8-9c91-34aa5dde2320",
   "metadata": {},
   "outputs": [
    {
     "name": "stdin",
     "output_type": "stream",
     "text": [
      "Por favor ingresar el valor del prestamo en Euros:  10000\n"
     ]
    },
    {
     "name": "stdout",
     "output_type": "stream",
     "text": [
      "El usuario debe pagar 5 cuotas, cada una de 2200.0 Euros\n"
     ]
    }
   ],
   "source": [
    "'''1.15. Una empresa de préstamos decidió cambiar su esquema de cobros así:\n",
    "• Si el préstamo es de más de 5000 euros, cobra en tres cuotas\n",
    "• Si el préstamo es de menos de 1000 euros, cobra en una cuota\n",
    "• Si el préstamo es entre 2000 y 3000 euros cobra en dos cuotas\n",
    "• En los demás casos cobra en cinco cuotas\n",
    "Adicionalmente, si es de menos de 4000 euros cobra el 12% de interés, en caso contrario cobra el 10% de interés.\n",
    "El programa debe decir en cuántas cuotas debe pagar y de cuánto es cada cuota. Para ello, se calcula el valor\n",
    "total de la deuda con interés y se divide en cuotas iguales. '''\n",
    "\n",
    "valor_prestamo = int(input('Por favor ingresar el valor del prestamo en Euros: '))\n",
    "\n",
    "if valor_prestamo > 3000 and valor_prestamo < 4000:\n",
    "    numero_cuotas = 3\n",
    "    valor_cuota = (valor_prestamo * 1.12)/numero_cuotas\n",
    "    print( f'El usuario debe pagar {numero_cuotas} cuotas, cada una de {valor_cuota} Euros')\n",
    "    \n",
    "if valor_prestamo <= 2000:\n",
    "    numero_cuotas = 1\n",
    "    valor_cuota = (valor_prestamo * 1.12)/numero_cuotas\n",
    "    print( f'El usuario debe pagar {numero_cuotas} cuota de {valor_cuota} Euros')\n",
    "    \n",
    "if valor_prestamo > 2000 and valor_prestamo < 3000:\n",
    "    numero_cuotas = 2\n",
    "    valor_cuota = (valor_prestamo * 1.12)/numero_cuotas\n",
    "    print( f'El usuario debe pagar {numero_cuotas} cuotas, cada una de {valor_cuota} Euros')\n",
    "    \n",
    "if valor_prestamo > 4000:\n",
    "    numero_cuotas = 5\n",
    "    valor_cuota = (valor_prestamo * 1.10)/numero_cuotas\n",
    "    print( f'El usuario debe pagar {numero_cuotas} cuotas, cada una de {valor_cuota} Euros')\n",
    "\n",
    "    \n",
    "    \n",
    "\n",
    "   "
   ]
  },
  {
   "cell_type": "code",
   "execution_count": 185,
   "id": "f79c0083-ae36-4c80-9c20-b628b9c06c3f",
   "metadata": {},
   "outputs": [
    {
     "name": "stdin",
     "output_type": "stream",
     "text": [
      "Por favor ingresar cantidad de horas trabajadas:  140\n",
      "Por favor ingresar valor de la hora Euros:  30\n"
     ]
    },
    {
     "name": "stdout",
     "output_type": "stream",
     "text": [
      "Las horas extras laboradas fueron de 0 horas\n",
      "El valor de las horas extras son de 0.0\n",
      "El sueldo del trabajador sin deducción es de 4200.0\n",
      "El salario del trabajador es de 2940.0 con una deducción del 30%\n"
     ]
    }
   ],
   "source": [
    "'''1.16. Calcular el salario neto de un trabajador de una empresa cuyo trabajo se paga por horas. Introducir por teclado el\n",
    "número de horas y el precio de la hora. El cálculo se realiza del siguiente modo:\n",
    "• Las primeras 35 horas de cada semana se pagan a la tarifa normal (suponer 4 semanas al mes).\n",
    "• Las horas extras se pagan un 50% más que las normales.\n",
    "• Los impuestos a deducir a los trabajadores varían en función de su sueldo mensual (considerando las horas\n",
    "extras trabajadas):\n",
    "o Si el sueldo es menor de € 600, libre de impuestos.\n",
    "o Si el sueldo está entre € 600 y € 1000, los impuestos son el 20%.\n",
    "o Si el sueldo es mayor de € 1000, el 30%. '''\n",
    "\n",
    "numero_horas = int((input('Por favor ingresar cantidad de horas trabajadas: ')))\n",
    "valor_hora = int(input('Por favor ingresar valor de la hora Euros: '))\n",
    "\n",
    "horas_extras = numero_horas - 140\n",
    "print(f'Las horas extras laboradas fueron de {horas_extras} horas')\n",
    "\n",
    "valor_horas_extras = horas_extras * (valor_hora * 1.5)\n",
    "print(f'El valor de las horas extras son de {valor_horas_extras}')\n",
    "\n",
    "sueldo = numero_horas*valor_hora + valor_horas_extras\n",
    "print(f'El sueldo del trabajador sin deducción es de {sueldo}')\n",
    "\n",
    "\n",
    "if sueldo <= 600:\n",
    "    print(f'El salario del trabajador es de {sueldo}, con una deducción del 0%')\n",
    "if sueldo > 600 and sueldo < 1000:\n",
    "    sueldo = sueldo -(sueldo * .20)\n",
    "    print(f'El salario del trabajador es de {sueldo}, con una deducción del 20%')\n",
    "if sueldo >= 1000:\n",
    "    sueldo = sueldo -(sueldo * .30)\n",
    "    print(f'El salario del trabajador es de {sueldo} con una deducción del 30%')\n",
    "\n",
    "\n",
    "                 \n",
    "    \n",
    "    "
   ]
  },
  {
   "cell_type": "code",
   "execution_count": 17,
   "id": "27a782f1-6312-4ed8-86d9-17e10def7422",
   "metadata": {},
   "outputs": [
    {
     "name": "stdin",
     "output_type": "stream",
     "text": [
      "Por favor ingresar código de identificación, recordar que solo son 3 digitos =    012\n"
     ]
    },
    {
     "name": "stdout",
     "output_type": "stream",
     "text": [
      "La categoria del empleado es Seguridad\n"
     ]
    }
   ],
   "source": [
    "'''1.17. En una empresa cada empleado debe teclear un código identificador de 3 cifras en la entrada. Escribir un\n",
    "programa que muestre por pantalla la categoría del empleado teniendo en cuenta que: • Si el código es divisible por 2, \n",
    "por 3 y por 5, la categoría del empleado es “Director general”.\n",
    "• Si el código es divisible por 3 y por 5 pero no por 2, la categoría del empleado es “Directivo”.\n",
    "• Si el código es divisible por 2, pero no por 3 ni por 5, la categoría del empleado es “Staff”.\n",
    "• Si el código no es divisible por 2, ni por 3 ni por 5, la categoría del empleado es “Seguridad”.\n",
    "Recuerde que: Un numero X es divisible por otro Y; si X mod Y = 0 '''\n",
    "\n",
    "\n",
    "codigo_identificador = int(input('Por favor ingresar código de identificación, recordar que solo son 3 digitos =   '))\n",
    "\n",
    "\n",
    "if codigo_identificador%2 == 0 and codigo_identificador%3 == 0 and codigo_identificador%5 ==0:\n",
    "    print('La categoria del empleado es Director General')\n",
    "elif codigo_identificador%3 == 0 and codigo_identificador%5 == 0 and codigo_identificador%2 != 0:\n",
    "    print('La categoria del empleado es Directivo')\n",
    "elif codigo_identificador%2 == 0 and codigo_identificador%5 != 0 and codigo_identificador%3 != 0:\n",
    "    print('La categoria del empleado es Staff')\n",
    "else:\n",
    "    print('La categoria del empleado es Seguridad')\n",
    "    \n",
    "    "
   ]
  },
  {
   "cell_type": "code",
   "execution_count": null,
   "id": "a1951dd3-33db-4ae4-bb52-02a244573f04",
   "metadata": {},
   "outputs": [],
   "source": [
    "'''1.18. La Dirección General de Tráfico necesita un programa que mida el índice alcohólico; dado el tipo de vehículo que\n",
    "conduce un conductor, determine si da positivo en el control de alcoholemia o no. La tasa máxima de alcohol\n",
    "según el tipo de vehículo se resume en la siguiente tabla:\n",
    "Vehículo Indicador Tasa máxima\n",
    "Camión C 0.3\n",
    "Autobús A 0.3\n",
    "Turismo T 0.5\n",
    "Motocicleta M 0.3'''\n",
    "while True:\n",
    "\n",
    "    tipo_vehiculo = input('Por favor ingresar tipo de vehiculo (C para camión, A para autobus, T para Turismo, M para motocicleta): ').lower()\n",
    "\n",
    "    lista_vehiculos = {'c':'Camion','a':'Autobus','t':'Turismo','m':'Motocicleta'}\n",
    "\n",
    "    if tipo_vehiculo in lista_vehiculos:\n",
    "\n",
    "        print(f'El tipo de vehiculo escogido es {lista_vehiculos[tipo_vehiculo]}')\n",
    "\n",
    "        tasa_alcohol = float(input('Por favor ingresar medida de alcohol: '))\n",
    "\n",
    "        if ((tipo_vehiculo == 'c' or tipo_vehiculo == 'a' or tipo_vehiculo == 'm')  and tasa_alcohol > 0.3) or ( tipo_vehiculo == 't' and tasa_alcohol > 0.5):\n",
    "            print('Es positivo por alcoholemia')\n",
    "\n",
    "\n",
    "        else:\n",
    "            print('No es positivo por alcoholemia')\n",
    "\n",
    "    else:\n",
    "        print('Por favor ingresar un tipo de vehiculo correcto') \n",
    "\n",
    "\n",
    "\n",
    "    \n",
    "\n",
    "\n"
   ]
  },
  {
   "cell_type": "markdown",
   "id": "cbd360fa-32d7-4c46-a607-7af0bdcf82b6",
   "metadata": {},
   "source": [
    "'''1.19. La compañía que gestiona la autopista ha decidido cambiar las tarifas de peaje.\n",
    "Estas tarifas dependen del tipo de vehículo (camión o automóvil) que desee utilizar la autopista, del número de\n",
    "pasajeros que lleve y de la hora del día: en las horas de alta congestión los automóviles con tres pasajeros o más\n",
    "no pagan peaje, los camiones pagan 50 euros; en las horas menos congestionadas el peaje para los automóviles\n",
    "es de 25 euros y para los camiones es de 30 euros independientemente del número de pasajeros.\n",
    "Escriba un programa que leyendo el tipo de vehículo, tipo de hora (si la hora es de alta congestión o no) y el\n",
    "número de pasajeros, calcule la tarifa que le debe cobrar a un vehículo. '''\n",
    "\n",
    "tipo_vehiculo = input('Por favor ingresar el tipo de vehiculo Camion o Automovil: ').lower()\n",
    "tipo_hora = input('Por favor ingresar SI si la hora es del alta congestión NO si no lo es: ').lower()\n",
    "numero_pasajeros = int(input('Por favor ingresar numero de pasajeros: '))\n",
    "\n",
    "if tipo_vehiculo == 'automovil' and tipo_hora == 'si' and numero_pasajeros >= 3:\n",
    "    print('El automovil por tener 3 o mas pasajeros no paga peaje en hora de alta congestión')\n",
    "elif tipo_vehiculo == 'automovil' and tipo_hora == 'no':\n",
    "    print('El automovil por no ser hora del ata congestión debe pagar $25')\n",
    "elif tipo_vehiculo == 'camion' and tipo_hora == 'si':\n",
    "    print('El camión por ser hora de alta congestión debe pagar $ 50')\n",
    "elif tipo_vehiculo =='automovil' and tipo_hora == 'si' and numero_pasajeros < 3:\n",
    "    print('El automovil por tener menos de 3 pasajeros debe pagar $ 25 de peaje')\n",
    "else:\n",
    "    print('El camión por ser hora de baja congestión debe pagar $30')\n",
    "\n"
   ]
  },
  {
   "cell_type": "markdown",
   "id": "817df6b1-4777-4a90-b24a-95adb3b8d112",
   "metadata": {},
   "source": [
    "2. ESTRUCTURAS DE REPETICIÓN\n"
   ]
  },
  {
   "cell_type": "code",
   "execution_count": 15,
   "id": "994a0404-3098-4ddc-9d1a-85fe57744bf6",
   "metadata": {},
   "outputs": [
    {
     "name": "stdout",
     "output_type": "stream",
     "text": [
      "abcdefghijklmnopqrstuvwxyz\n"
     ]
    }
   ],
   "source": [
    "#2.1. Realizar un programa que transforme todas las letras del alfabeto de mayúsculas a minúsculas. \n",
    "\n",
    "letras_alfabeto = 'ABCDEFGHIJKLMNOPQRSTUVWXYZ'\n",
    "print((letras_alfabeto).lower())\n"
   ]
  },
  {
   "cell_type": "code",
   "execution_count": 27,
   "id": "755f3c67-4f4e-436f-91cb-b45d8ca68d7a",
   "metadata": {},
   "outputs": [
    {
     "name": "stdin",
     "output_type": "stream",
     "text": [
      "Ingrese la edad del alumno 1:  4\n",
      "Ingrese la edad del alumno 2:  5\n",
      "Ingrese la edad del alumno 3:  6\n",
      "Ingrese la edad del alumno 4:  9\n"
     ]
    },
    {
     "name": "stdout",
     "output_type": "stream",
     "text": [
      " El promedio de edad del grupo es : 6.0 años\n"
     ]
    }
   ],
   "source": [
    "#2.2. Programa que lee las edades de un grupo de 100 alumnos y encuentra el promedio. \n",
    "\n",
    "suma_edades = 0\n",
    "\n",
    "for i in range (1,5):\n",
    "    while True:\n",
    "        try:\n",
    "            edad = int(input(f'Ingrese la edad del alumno {i}: '))\n",
    "            if edad <= 0:\n",
    "                print('La edad debe ser un numero positivo.Intenta de nuevo.')\n",
    "            else:\n",
    "                break\n",
    "        except ValueError:\n",
    "            print('Por favor ingresar un numero valido')\n",
    "\n",
    "    suma_edades += edad\n",
    "            \n",
    "promedio = suma_edades / len(range(1,5))\n",
    "\n",
    "print(f' El promedio de edad del grupo es : {promedio} años')"
   ]
  },
  {
   "cell_type": "code",
   "execution_count": 50,
   "id": "935b6e52-18b7-4359-9ba7-9f9077ac691b",
   "metadata": {},
   "outputs": [
    {
     "name": "stdin",
     "output_type": "stream",
     "text": [
      "Por favor ingresa el nombre del alumno:  Andres Rodriguez\n",
      "Ingrese la calificación 1 del alumno Andres Rodriguez:  4\n",
      "Ingrese la calificación 2 del alumno Andres Rodriguez:  2\n",
      "Ingrese la calificación 3 del alumno Andres Rodriguez:  1\n",
      "Ingrese la calificación 4 del alumno Andres Rodriguez:  4\n",
      "Ingrese la calificación 5 del alumno Andres Rodriguez:  3\n",
      "Ingrese la calificación 6 del alumno Andres Rodriguez:  2\n",
      "Ingrese la calificación 7 del alumno Andres Rodriguez:  1\n"
     ]
    },
    {
     "name": "stdout",
     "output_type": "stream",
     "text": [
      "El promedio del alumno Andres Rodriguez es 2.4\n"
     ]
    }
   ],
   "source": [
    "#2.3. Calcular el promedio de un alumno que tiene 7 calificaciones en la materia de Cálculo. \n",
    "\n",
    "nombre_alumno = input('Por favor ingresa el nombre del alumno: ') \n",
    "suma_calificaciones = 0\n",
    "for i in range (1,8):\n",
    "\n",
    "       \n",
    "    while True:  \n",
    "        try:\n",
    "            calificacion = int(input(f'Ingrese la calificación {i} del alumno {nombre_alumno}: '))\n",
    "            if calificacion < 0:\n",
    "                print('La calificación debe ser un numero positivo. Intenta de nuevo. ')\n",
    "            else:\n",
    "                break\n",
    "        except ValueError:\n",
    "            print('Por favor ingresar un numero valido')\n",
    "\n",
    "    suma_calificaciones += calificacion\n",
    "\n",
    "promedio = round((suma_calificaciones / len(range(1,8))),1)\n",
    "\n",
    "print(f'El promedio del alumno {nombre_alumno} es {promedio}')\n",
    "    "
   ]
  },
  {
   "cell_type": "markdown",
   "id": "4527631b-b11e-4e3e-8c65-2cc4192f6daf",
   "metadata": {},
   "source": [
    "3. FUNCIONES"
   ]
  },
  {
   "cell_type": "code",
   "execution_count": 53,
   "id": "fc05ce65-d456-4834-9ff7-7c8c7ff52902",
   "metadata": {},
   "outputs": [
    {
     "name": "stdin",
     "output_type": "stream",
     "text": [
      "Por favor ingresar el primer numero:  4\n",
      "Por favor ingresar el segundo numero:  5\n"
     ]
    },
    {
     "name": "stdout",
     "output_type": "stream",
     "text": [
      "9\n"
     ]
    }
   ],
   "source": [
    "'''3.1. Crear una función llamada \"suma\", que reciba como parámetros dos números enteros y devuelva como resultado\n",
    "otro número entero que sea la suma de ambos. '''\n",
    "\n",
    "numero1 = int(input('Por favor ingresar el primer numero: '))\n",
    "numero2 = int(input('Por favor ingresar el segundo numero: '))\n",
    "\n",
    "def suma():\n",
    "    suma = numero1 + numero2\n",
    "    print(suma)\n",
    "\n",
    "suma()"
   ]
  },
  {
   "cell_type": "code",
   "execution_count": 54,
   "id": "084da627-2d78-41d0-ad8e-85687add8d88",
   "metadata": {},
   "outputs": [
    {
     "name": "stdin",
     "output_type": "stream",
     "text": [
      "Por favor ingresar el primer numero:  4\n",
      "Por favor ingresar el segundo numero:  2\n"
     ]
    },
    {
     "name": "stdout",
     "output_type": "stream",
     "text": [
      "2.0\n"
     ]
    }
   ],
   "source": [
    "'''3.2. Crear una función llamada \"division\", que reciba como parámetros dos números enteros y devuelva como\n",
    "resultado un número real, que sea el resultado de dividir el primer número entre el segundo (con decimales).'''\n",
    "\n",
    "numero1 = int(input('Por favor ingresar el primer numero: '))\n",
    "numero2 = int(input('Por favor ingresar el segundo numero: '))\n",
    "\n",
    "def division():\n",
    "    division = numero1 / numero2\n",
    "    print(division)\n",
    "\n",
    "division()\n"
   ]
  },
  {
   "cell_type": "code",
   "execution_count": 56,
   "id": "700da59d-bb40-453f-90f3-1a0b5f82feec",
   "metadata": {},
   "outputs": [
    {
     "name": "stdin",
     "output_type": "stream",
     "text": [
      "Por favor ingresar letra:  r\n",
      "Por favor ingresar numero:  5\n"
     ]
    },
    {
     "name": "stdout",
     "output_type": "stream",
     "text": [
      "rrrrr\n"
     ]
    }
   ],
   "source": [
    "'''3.3. Crear una función llamada \"letraRepetida\", que reciba como parámetros una letra y un número, y escriba en\n",
    "pantalla esa letra repetida en pantalla varias veces (tantas como indique el número), sin devolver ningún valor'''\n",
    "\n",
    "letra = input('Por favor ingresar letra: ')\n",
    "numero = int(input('Por favor ingresar numero: '))\n",
    "\n",
    "def letra_repetida():\n",
    "    print(letra * numero)\n",
    "\n",
    "letra_repetida()\n"
   ]
  },
  {
   "cell_type": "code",
   "execution_count": 97,
   "id": "fc814226-2a4a-440a-8cfe-24e8d23cd4fd",
   "metadata": {},
   "outputs": [
    {
     "name": "stdin",
     "output_type": "stream",
     "text": [
      "Por favor ingresar un texto:  helo\n"
     ]
    },
    {
     "name": "stdout",
     "output_type": "stream",
     "text": [
      "4\n",
      "                                                                                helo\n",
      "                                                                                ____\n"
     ]
    }
   ],
   "source": [
    "'''3.4. Crear una función llamada \"rotulo\", que tome como parámetro una cadena de texto, no devuelva ningún valor, y\n",
    "escriba en pantalla ese texto centrado (suponiendo una anchura de pantalla de 80 letras) y en la línea siguiente\n",
    "escriba guiones para que el rótulo parezca subrayado (tantos guiones como letras formen la palabra).'''\n",
    "\n",
    "\n",
    "\n",
    "def rotulo():\n",
    "    \n",
    "    cadena_texto = (input('Por favor ingresar un texto: '))\n",
    "    ancho = 80\n",
    "    print(len(cadena_texto))\n",
    "    \n",
    "    print(' '*ancho + cadena_texto)\n",
    "    print(' '*ancho + len(cadena_texto)*'_')\n",
    "\n",
    "rotulo()\n"
   ]
  },
  {
   "cell_type": "code",
   "execution_count": 71,
   "id": "04ef0a30-1e2a-41a1-9a45-b764481d1394",
   "metadata": {},
   "outputs": [
    {
     "name": "stdout",
     "output_type": "stream",
     "text": [
      "_______________________________________________________________________________________________________________________________________________________\n"
     ]
    }
   ],
   "source": [
    "print(151*'_')"
   ]
  },
  {
   "cell_type": "code",
   "execution_count": 98,
   "id": "0de6b17d-186e-4ca2-9e58-361105cae914",
   "metadata": {},
   "outputs": [
    {
     "name": "stdin",
     "output_type": "stream",
     "text": [
      "Por favor ingresar un texto:  hello\n"
     ]
    },
    {
     "name": "stdout",
     "output_type": "stream",
     "text": [
      "                                                                         hello\n",
      "                                                                         _____\n"
     ]
    }
   ],
   "source": [
    "'''3.4. Crear una función llamada \"rotulo\", que tome como parámetro una cadena de texto, no devuelva ningún valor, y\n",
    "escriba en pantalla ese texto centrado (suponiendo una anchura de pantalla de 80 letras) y en la línea siguiente\n",
    "escriba guiones para que el rótulo parezca subrayado (tantos guiones como letras formen la palabra).'''\n",
    "\n",
    "\n",
    "\n",
    "def rotulo():\n",
    "    \n",
    "    cadena_texto = (input('Por favor ingresar un texto: '))\n",
    "    ancho = 151\n",
    " \n",
    "    print(' '* int((ancho - len(cadena_texto))/2) + cadena_texto)\n",
    "    print(' '* int((ancho - len(cadena_texto))/2) + len(cadena_texto)*'_')\n",
    "\n",
    "rotulo()\n"
   ]
  },
  {
   "cell_type": "markdown",
   "id": "7b8c0aad-5253-41f0-99a4-b7255fe56dab",
   "metadata": {},
   "source": [
    "4. RECURSIVIDAD"
   ]
  },
  {
   "cell_type": "code",
   "execution_count": 112,
   "id": "895d27b9-487d-4b61-a038-d4e9808b3598",
   "metadata": {},
   "outputs": [
    {
     "name": "stdin",
     "output_type": "stream",
     "text": [
      "Por favor ingresar un numero entero:  4.5\n"
     ]
    },
    {
     "name": "stdout",
     "output_type": "stream",
     "text": [
      "Error debes ingresar un numero entero válido\n"
     ]
    },
    {
     "name": "stdin",
     "output_type": "stream",
     "text": [
      "Por favor ingresar un numero entero:  5\n",
      "Por favor ingresar un numero natural:  -2\n"
     ]
    },
    {
     "name": "stdout",
     "output_type": "stream",
     "text": [
      "Error:El numero natural debe ser mayor a 1\n"
     ]
    },
    {
     "name": "stdin",
     "output_type": "stream",
     "text": [
      "Por favor ingresar un numero entero:  5\n",
      "Por favor ingresar un numero natural:  2\n"
     ]
    },
    {
     "name": "stdout",
     "output_type": "stream",
     "text": [
      "25\n"
     ]
    }
   ],
   "source": [
    "'''4.1. Dados dos números a (número entero) y b (número natural mayor o igual que cero) determinar a^b. '''\n",
    "\n",
    "while True:\n",
    "    try:\n",
    "        numero_entero = int(input('Por favor ingresar un numero entero: '))\n",
    "        numero_natural = int(input('Por favor ingresar un numero natural: '))\n",
    "        if numero_natural >= 1:\n",
    "            break\n",
    "        else:\n",
    "            print('Error:El numero natural debe ser mayor a 1')\n",
    "    except ValueError:\n",
    "        print('Error debes ingresar un numero entero válido')\n",
    "\n",
    "print(numero_entero ** numero_natural)\n",
    "    \n",
    "    \n",
    "\n"
   ]
  },
  {
   "cell_type": "code",
   "execution_count": null,
   "id": "e542e6b4-7f2a-4ff9-a8eb-05a1d2b5c103",
   "metadata": {},
   "outputs": [],
   "source": [
    "'''4.2. Dado un arreglo constituido de números enteros y que contiene N elementos siendo N >= 1, \n",
    "devolver la suma de todos los elementos. '''"
   ]
  }
 ],
 "metadata": {
  "kernelspec": {
   "display_name": "Python [conda env:base] *",
   "language": "python",
   "name": "conda-base-py"
  },
  "language_info": {
   "codemirror_mode": {
    "name": "ipython",
    "version": 3
   },
   "file_extension": ".py",
   "mimetype": "text/x-python",
   "name": "python",
   "nbconvert_exporter": "python",
   "pygments_lexer": "ipython3",
   "version": "3.12.7"
  }
 },
 "nbformat": 4,
 "nbformat_minor": 5
}
